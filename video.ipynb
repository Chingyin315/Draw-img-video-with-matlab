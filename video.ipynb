{
 "cells": [
  {
   "cell_type": "code",
   "execution_count": 16,
   "id": "d8dfe4d8-8ed1-4326-88a8-c00646862a80",
   "metadata": {},
   "outputs": [
    {
     "name": "stdout",
     "output_type": "stream",
     "text": [
      "Edge-detected video with selective settings has been saved as output_edge_video.mp4\n"
     ]
    }
   ],
   "source": [
    "import cv2\n",
    "import numpy as np\n",
    "import matplotlib.pyplot as plt\n",
    "from matplotlib.animation import FuncAnimation\n",
    "\n",
    "# Path to input and output video files\n",
    "input_video_path = 'xtdowner.com_127498_mp4_360P.mp4'  # Replace with your input video path\n",
    "output_video_path = 'output_edge_video.mp4'\n",
    "\n",
    "# Set up video capture and properties\n",
    "cap = cv2.VideoCapture(input_video_path)\n",
    "fps = cap.get(cv2.CAP_PROP_FPS)\n",
    "frame_width = int(cap.get(cv2.CAP_PROP_FRAME_WIDTH))\n",
    "frame_height = int(cap.get(cv2.CAP_PROP_FRAME_HEIGHT))\n",
    "\n",
    "# Set up video writer to save output\n",
    "fourcc = cv2.VideoWriter_fourcc(*'mp4v')\n",
    "out = cv2.VideoWriter(output_video_path, fourcc, fps, (frame_width, frame_height), isColor=False)\n",
    "\n",
    "# Process each frame\n",
    "while cap.isOpened():\n",
    "    ret, frame = cap.read()\n",
    "    if not ret:\n",
    "        break\n",
    "\n",
    "    # Resize the frame for moderate detail\n",
    "    scale_factor = 0.8\n",
    "    frame = cv2.resize(frame, (int(frame.shape[1] * scale_factor), int(frame.shape[0] * scale_factor)))\n",
    "\n",
    "    # Apply contrast enhancement\n",
    "    alpha = 1.5  # Increased contrast\n",
    "    beta = 50    # Slight brightness increase\n",
    "    contrast_frame = cv2.convertScaleAbs(frame, alpha=alpha, beta=beta)\n",
    "\n",
    "    # Split the contrast-enhanced frame into Red, Green, and Blue channels\n",
    "    blue_channel, green_channel, red_channel = cv2.split(contrast_frame)\n",
    "\n",
    "    # Apply selective Canny edge detection on each channel\n",
    "    edges_red = cv2.Canny(red_channel, threshold1=100, threshold2=250)\n",
    "    edges_green = cv2.Canny(green_channel, threshold1=100, threshold2=250)\n",
    "    edges_blue = cv2.Canny(blue_channel, threshold1=50, threshold2=200)  # More sensitive to blue\n",
    "\n",
    "    # Combine edges from each channel with emphasis on blue\n",
    "    edges_combined = cv2.bitwise_or(edges_blue, cv2.bitwise_or(edges_red, edges_green))\n",
    "\n",
    "    # Resize edges_combined to match the original frame dimensions for consistent output\n",
    "    edges_combined = cv2.resize(edges_combined, (frame_width, frame_height))\n",
    "\n",
    "    # Write the processed frame to the output video\n",
    "    out.write(edges_combined)\n",
    "\n",
    "# Release resources\n",
    "cap.release()\n",
    "out.release()\n",
    "print(\"Edge-detected video with selective settings has been saved as\", output_video_path)"
   ]
  },
  {
   "cell_type": "code",
   "execution_count": null,
   "id": "fbca0a76-85cc-4873-935b-0225cd25a2dd",
   "metadata": {},
   "outputs": [],
   "source": []
  }
 ],
 "metadata": {
  "kernelspec": {
   "display_name": "Python 3 (ipykernel)",
   "language": "python",
   "name": "python3"
  },
  "language_info": {
   "codemirror_mode": {
    "name": "ipython",
    "version": 3
   },
   "file_extension": ".py",
   "mimetype": "text/x-python",
   "name": "python",
   "nbconvert_exporter": "python",
   "pygments_lexer": "ipython3",
   "version": "3.11.7"
  }
 },
 "nbformat": 4,
 "nbformat_minor": 5
}
